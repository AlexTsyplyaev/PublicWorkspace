{
 "cells": [
  {
   "cell_type": "code",
   "execution_count": 44,
   "metadata": {},
   "outputs": [],
   "source": [
    "### GET PREPARED DATASET###\n",
    "import numpy as np\n",
    "import matplotlib.pyplot as plt\n",
    "import pandas as pd\n",
    "%matplotlib inline\n",
    "data = pd.read_csv('./ENB2012_data.csv',engine = 'python',encoding='ascii')\n",
    "data.columns = [u'Relative Compactness',u'Surface Area',u'Wall Area',\n",
    "u'Roof Area',\n",
    "u'Overall Height',\n",
    "u'Orientation',\n",
    "u'Glazing Area',\n",
    "u'Glazing Area Distribution',\n",
    "u'Heating Load',\n",
    "u'Cooling Load']\n",
    "data_ = (data - data.mean(axis = 0))/data.std(axis = 0)\n",
    "for i in range (0,len(data_['Cooling Load'].values)):\n",
    "    data_['Cooling Load'].values[i]=int(data_['Cooling Load'].values[i])\n",
    "y= data_['Cooling Load']\n",
    "X = data_.drop(('Heating Load'), axis = 1).drop(('Cooling Load'), axis = 1)   "
   ]
  },
  {
   "cell_type": "code",
   "execution_count": 77,
   "metadata": {},
   "outputs": [
    {
     "name": "stderr",
     "output_type": "stream",
     "text": [
      "/home/alt_s/.local/lib/python3.5/site-packages/sklearn/cross_validation.py:41: DeprecationWarning: This module was deprecated in version 0.18 in favor of the model_selection module into which all the refactored classes and functions are moved. Also note that the interface of the new CV iterators are different from that of this module. This module will be removed in 0.20.\n",
      "  \"This module will be removed in 0.20.\", DeprecationWarning)\n"
     ]
    }
   ],
   "source": [
    "### Get Splitted Data###\n",
    "import mysk\n",
    "from sklearn.svm import SVC\n",
    "from sklearn import discriminant_analysis\n",
    "from sklearn import tree\n",
    "from sklearn import cross_validation\n",
    "from sklearn.model_selection import GridSearchCV\n",
    "from sklearn.metrics import confusion_matrix\n",
    "from sklearn.naive_bayes import BernoulliNB\n",
    "from sklearn.naive_bayes import GaussianNB\n",
    "from sklearn.model_selection import train_test_split\n",
    "from sklearn.linear_model import LogisticRegression\n",
    "X_train, X_test, y_train, y_test = train_test_split(X,y, test_size = 0.33, \n",
    "                                                    random_state = 31)"
   ]
  },
  {
   "cell_type": "markdown",
   "metadata": {},
   "source": [
    "# For every and each of methods described below,\n",
    "# The following actions performed:\n",
    "1. Model declaration\n",
    "2. Cross-validation predictions - just to have some mean values to rely on\n",
    "3. Fitting the model\n",
    "4. Error output\n",
    "5. Some conclusions\n",
    "6. Optionally: graphics"
   ]
  },
  {
   "cell_type": "code",
   "execution_count": 79,
   "metadata": {},
   "outputs": [
    {
     "name": "stdout",
     "output_type": "stream",
     "text": [
      "[ 0.64556962  0.6835443   0.64935065  0.85714286  0.89473684  0.76315789\n",
      "  0.85526316  0.82894737  0.67105263  0.69736842]\n",
      "0.235408560311 0.216535433071\n"
     ]
    }
   ],
   "source": [
    "svc_model = SVC(kernel = 'linear', C = 1)\n",
    "scores = cross_validation.cross_val_score(svc_model, X, y, cv = 10)\n",
    "print (scores)\n",
    "svc_model.fit(X_train, y_train)\n",
    "print (np.mean(y_train != svc_model.predict(X_train)), \\\n",
    "               np.mean(y_test != svc_model.predict(X_test)))\n",
    "#Results are fine (21% standard is almost completed)"
   ]
  },
  {
   "cell_type": "code",
   "execution_count": 56,
   "metadata": {},
   "outputs": [
    {
     "name": "stdout",
     "output_type": "stream",
     "text": [
      "0.235408560311 0.216535433071\n",
      "0.235408560311 0.216535433071\n",
      "0.235408560311 0.216535433071\n",
      "0.190661478599 0.157480314961\n",
      "0.178988326848 0.192913385827\n",
      "0.147859922179 0.181102362205\n",
      "0.108949416342 0.165354330709\n",
      "0.0856031128405 0.157480314961\n",
      "0.210116731518 0.188976377953\n",
      "0.188715953307 0.196850393701\n",
      "0.155642023346 0.196850393701\n",
      "0.103112840467 0.153543307087\n",
      "0.309338521401 0.228346456693\n",
      "0.389105058366 0.303149606299\n",
      "0.373540856031 0.291338582677\n",
      "0.352140077821 0.259842519685\n"
     ]
    }
   ],
   "source": [
    "for i in [\"linear\",\"rbf\",\"poly\",\"sigmoid\"]:\n",
    "    for c in [1,3,7,20]:\n",
    "        svc_model = SVC(kernel = i, C = c)\n",
    "        svc_model.fit(X_train, y_train)\n",
    "        print (np.mean(y_train != svc_model.predict(X_train)), \\\n",
    "               np.mean(y_test != svc_model.predict(X_test)))\n",
    "#rbf and poly are ok with c=20 (Excellent results actually)"
   ]
  },
  {
   "cell_type": "code",
   "execution_count": null,
   "metadata": {},
   "outputs": [],
   "source": []
  },
  {
   "cell_type": "code",
   "execution_count": 80,
   "metadata": {},
   "outputs": [
    {
     "name": "stderr",
     "output_type": "stream",
     "text": [
      "/home/alt_s/.local/lib/python3.5/site-packages/sklearn/discriminant_analysis.py:388: UserWarning: Variables are collinear.\n",
      "  warnings.warn(\"Variables are collinear.\")\n",
      "/home/alt_s/.local/lib/python3.5/site-packages/sklearn/discriminant_analysis.py:388: UserWarning: Variables are collinear.\n",
      "  warnings.warn(\"Variables are collinear.\")\n",
      "/home/alt_s/.local/lib/python3.5/site-packages/sklearn/discriminant_analysis.py:388: UserWarning: Variables are collinear.\n",
      "  warnings.warn(\"Variables are collinear.\")\n",
      "/home/alt_s/.local/lib/python3.5/site-packages/sklearn/discriminant_analysis.py:388: UserWarning: Variables are collinear.\n",
      "  warnings.warn(\"Variables are collinear.\")\n",
      "/home/alt_s/.local/lib/python3.5/site-packages/sklearn/discriminant_analysis.py:388: UserWarning: Variables are collinear.\n",
      "  warnings.warn(\"Variables are collinear.\")\n",
      "/home/alt_s/.local/lib/python3.5/site-packages/sklearn/discriminant_analysis.py:388: UserWarning: Variables are collinear.\n",
      "  warnings.warn(\"Variables are collinear.\")\n",
      "/home/alt_s/.local/lib/python3.5/site-packages/sklearn/discriminant_analysis.py:388: UserWarning: Variables are collinear.\n",
      "  warnings.warn(\"Variables are collinear.\")\n",
      "/home/alt_s/.local/lib/python3.5/site-packages/sklearn/discriminant_analysis.py:388: UserWarning: Variables are collinear.\n",
      "  warnings.warn(\"Variables are collinear.\")\n",
      "/home/alt_s/.local/lib/python3.5/site-packages/sklearn/discriminant_analysis.py:388: UserWarning: Variables are collinear.\n",
      "  warnings.warn(\"Variables are collinear.\")\n",
      "/home/alt_s/.local/lib/python3.5/site-packages/sklearn/discriminant_analysis.py:388: UserWarning: Variables are collinear.\n",
      "  warnings.warn(\"Variables are collinear.\")\n"
     ]
    },
    {
     "name": "stdout",
     "output_type": "stream",
     "text": [
      "[ 0.64556962  0.6835443   0.67532468  0.72727273  0.92105263  0.78947368\n",
      "  0.80263158  0.76315789  0.76315789  0.76315789]\n",
      "0.22373540856 0.267716535433\n",
      "[[ 84  19   0   0]\n",
      " [ 13 257  41   0]\n",
      " [  0  24  58  18]\n",
      " [  0   0   0   0]]\n",
      "[[ 49  16   0   0]\n",
      " [  6 119  15   0]\n",
      " [  0  29  18   2]\n",
      " [  0   0   0   0]]\n"
     ]
    }
   ],
   "source": [
    "lda_model = discriminant_analysis.LinearDiscriminantAnalysis()\n",
    "scores = cross_validation.cross_val_score(lda_model, X, y, cv = 10)\n",
    "print (scores)\n",
    "lda_model.fit(X_train.values, y_train.values)\n",
    "print (np.mean(y_train != lda_model.predict(X_train)), \\\n",
    "               np.mean(y_test != lda_model.predict(X_test)))\n",
    "print(confusion_matrix(lda_model.predict(X_train), y_train))\n",
    "print(confusion_matrix(lda_model.predict(X_test), y_test)) \n",
    "#26% on test - ok, but can go better"
   ]
  },
  {
   "cell_type": "code",
   "execution_count": 82,
   "metadata": {},
   "outputs": [
    {
     "data": {
      "text/plain": [
       "(array([ 27.,  10.,   8.,   4.,   3.,   0.,   0.,   0.,   0.,   3.]),\n",
       " array([ 0.25234952,  0.31212164,  0.37189377,  0.4316659 ,  0.49143803,\n",
       "         0.55121015,  0.61098228,  0.67075441,  0.73052653,  0.79029866,\n",
       "         0.85007079]),\n",
       " <a list of 10 Patch objects>)"
      ]
     },
     "execution_count": 82,
     "metadata": {},
     "output_type": "execute_result"
    },
    {
     "data": {
      "image/png": "[encoded data removed]",
      "text/plain": [
       "<matplotlib.figure.Figure at 0xa665cb2c>"
      ]
     },
     "metadata": {},
     "output_type": "display_data"
    }
   ],
   "source": [
    "from sklearn.metrics import roc_curve\n",
    "proba = lda_model.predict_proba(X_test)[:, 1]\n",
    "plt.hist(proba[y_test == 1], color = 'b', alpha = 0.5)\n",
    "plt.hist(proba[y_test == 0], color = 'r', alpha = 0.5)\n",
    "plt.hist(proba[y_test == -1], color = 'g', alpha = 0.5)"
   ]
  },
  {
   "cell_type": "code",
   "execution_count": 88,
   "metadata": {},
   "outputs": [
    {
     "name": "stderr",
     "output_type": "stream",
     "text": [
      "/home/alt_s/.local/lib/python3.5/site-packages/sklearn/discriminant_analysis.py:682: UserWarning: Variables are collinear\n",
      "  warnings.warn(\"Variables are collinear\")\n",
      "/home/alt_s/.local/lib/python3.5/site-packages/sklearn/discriminant_analysis.py:682: UserWarning: Variables are collinear\n",
      "  warnings.warn(\"Variables are collinear\")\n",
      "/home/alt_s/.local/lib/python3.5/site-packages/sklearn/discriminant_analysis.py:682: UserWarning: Variables are collinear\n",
      "  warnings.warn(\"Variables are collinear\")\n",
      "/home/alt_s/.local/lib/python3.5/site-packages/sklearn/discriminant_analysis.py:682: UserWarning: Variables are collinear\n",
      "  warnings.warn(\"Variables are collinear\")\n",
      "/home/alt_s/.local/lib/python3.5/site-packages/sklearn/discriminant_analysis.py:682: UserWarning: Variables are collinear\n",
      "  warnings.warn(\"Variables are collinear\")\n",
      "/home/alt_s/.local/lib/python3.5/site-packages/sklearn/discriminant_analysis.py:682: UserWarning: Variables are collinear\n",
      "  warnings.warn(\"Variables are collinear\")\n",
      "/home/alt_s/.local/lib/python3.5/site-packages/sklearn/discriminant_analysis.py:682: UserWarning: Variables are collinear\n",
      "  warnings.warn(\"Variables are collinear\")\n",
      "/home/alt_s/.local/lib/python3.5/site-packages/sklearn/discriminant_analysis.py:682: UserWarning: Variables are collinear\n",
      "  warnings.warn(\"Variables are collinear\")\n",
      "/home/alt_s/.local/lib/python3.5/site-packages/sklearn/discriminant_analysis.py:682: UserWarning: Variables are collinear\n",
      "  warnings.warn(\"Variables are collinear\")\n"
     ]
    },
    {
     "name": "stdout",
     "output_type": "stream",
     "text": [
      "[ 0.59493671  0.46835443  0.64935065  0.76623377  0.65789474  0.59210526\n",
      "  0.72368421  0.69736842  0.69736842  0.72368421]\n",
      "0.332684824903 0.338582677165\n",
      "[[ 16   5   0   0]\n",
      " [ 81 274  46   6]\n",
      " [  0  21  53  12]\n",
      " [  0   0   0   0]]\n",
      "[[  3   1   0   0]\n",
      " [ 52 153  21   0]\n",
      " [  0  10  12   2]\n",
      " [  0   0   0   0]]\n"
     ]
    },
    {
     "name": "stderr",
     "output_type": "stream",
     "text": [
      "/home/alt_s/.local/lib/python3.5/site-packages/sklearn/discriminant_analysis.py:682: UserWarning: Variables are collinear\n",
      "  warnings.warn(\"Variables are collinear\")\n"
     ]
    }
   ],
   "source": [
    "qda_model = discriminant_analysis.QuadraticDiscriminantAnalysis()\n",
    "scores = cross_validation.cross_val_score(qda_model, X, y, cv = 10)\n",
    "print (scores)\n",
    "qda_model.fit(X_train.values, y_train.values)\n",
    "print (np.mean(y_train != qda_model.predict(X_train)), \\\n",
    "               np.mean(y_test != qda_model.predict(X_test)))\n",
    "print(confusion_matrix(qda_model.predict(X_train), y_train))\n",
    "print(confusion_matrix(qda_model.predict(X_test), y_test)) \n",
    "#30+, not fine at all"
   ]
  },
  {
   "cell_type": "code",
   "execution_count": 72,
   "metadata": {},
   "outputs": [
    {
     "data": {
      "text/plain": [
       "(array([  3.,   0.,   0.,   0.,   0.,   0.,   0.,   0.,   0.,  52.]),\n",
       " array([  1.30607491e-29,   1.00000000e-01,   2.00000000e-01,\n",
       "          3.00000000e-01,   4.00000000e-01,   5.00000000e-01,\n",
       "          6.00000000e-01,   7.00000000e-01,   8.00000000e-01,\n",
       "          9.00000000e-01,   1.00000000e+00]),\n",
       " <a list of 10 Patch objects>)"
      ]
     },
     "execution_count": 72,
     "metadata": {},
     "output_type": "execute_result"
    },
    {
     "data": {
      "image/png": "[encoded data removed]",
      "text/plain": [
       "<matplotlib.figure.Figure at 0xa7ad376c>"
      ]
     },
     "metadata": {},
     "output_type": "display_data"
    }
   ],
   "source": [
    "proba = qda_model.predict_proba(X_test)[:, 1]\n",
    "plt.hist(proba[y_test == 1], color = 'b', alpha = 0.5)\n",
    "plt.hist(proba[y_test == 0], color = 'r', alpha = 0.5)\n",
    "plt.hist(proba[y_test == -1], color = 'g', alpha = 0.5)"
   ]
  },
  {
   "cell_type": "code",
   "execution_count": 83,
   "metadata": {},
   "outputs": [
    {
     "name": "stdout",
     "output_type": "stream",
     "text": [
      "[ 0.29113924  0.29113924  0.32467532  0.35064935  0.35526316  0.36842105\n",
      "  0.36842105  0.35526316  0.35526316  0.36842105]\n",
      "0.643968871595 0.685039370079\n",
      "[[ 97 152   0   0]\n",
      " [  0   0   0   0]\n",
      " [  0 146  68   0]\n",
      " [  0   2  31  18]]\n",
      "[[55 80  0  0]\n",
      " [ 0  0  0  0]\n",
      " [ 0 83 23  0]\n",
      " [ 0  1 10  2]]\n"
     ]
    }
   ],
   "source": [
    "nb_model = GaussianNB()\n",
    "scores = cross_validation.cross_val_score(nb_model, X, y, cv = 10)\n",
    "print (scores)\n",
    "nb_model.fit(X_train, y_train)\n",
    "print (np.mean(y_train != nb_model.predict(X_train)), \\\n",
    "               np.mean(y_test != nb_model.predict(X_test)))\n",
    "print(confusion_matrix(nb_model.predict(X_train), y_train))\n",
    "print(confusion_matrix(nb_model.predict(X_test), y_test))\n",
    "#Failure, not so cool as others"
   ]
  },
  {
   "cell_type": "code",
   "execution_count": 84,
   "metadata": {},
   "outputs": [
    {
     "name": "stdout",
     "output_type": "stream",
     "text": [
      "[ 0.37974684  0.37974684  0.36363636  0.36363636  0.36842105  0.36842105\n",
      "  0.43421053  0.36842105  0.36842105  0.36842105]\n",
      "0.618677042802 0.653543307087\n",
      "[[ 97 152   0   0]\n",
      " [  0   0   0   0]\n",
      " [  0 148  99  18]\n",
      " [  0   0   0   0]]\n",
      "[[55 80  0  0]\n",
      " [ 0  0  0  0]\n",
      " [ 0 84 33  2]\n",
      " [ 0  0  0  0]]\n"
     ]
    }
   ],
   "source": [
    "nbber_model = BernoulliNB()\n",
    "scores = cross_validation.cross_val_score(nbber_model, X, y, cv = 10)\n",
    "print (scores)\n",
    "nbber_model.fit(X_train, y_train)\n",
    "print (np.mean(y_train != nbber_model.predict(X_train)), \\\n",
    "               np.mean(y_test != nbber_model.predict(X_test)))\n",
    "print(confusion_matrix(nbber_model.predict(X_train), y_train))\n",
    "print(confusion_matrix(nbber_model.predict(X_test), y_test))\n",
    "#As a previous - failure. Guess the reason is the categorial"
   ]
  },
  {
   "cell_type": "code",
   "execution_count": 85,
   "metadata": {},
   "outputs": [
    {
     "name": "stdout",
     "output_type": "stream",
     "text": [
      "[ 0.82278481  0.84810127  0.83116883  0.83116883  0.59210526  0.75\n",
      "  0.96052632  0.90789474  0.78947368  0.77631579]\n"
     ]
    },
    {
     "data": {
      "text/plain": [
       "0.13424124513618674"
      ]
     },
     "execution_count": 85,
     "metadata": {},
     "output_type": "execute_result"
    }
   ],
   "source": [
    "depth_array = np.arange(1, 100)\n",
    "tree_model = tree.DecisionTreeClassifier()\n",
    "grid = GridSearchCV(tree_model, param_grid = {'max_depth': depth_array}, cv = 5)\n",
    "scores = cross_validation.cross_val_score(tree_model, X, y, cv = 10)\n",
    "print (scores)\n",
    "grid.fit(X_train, y_train)\n",
    "min_err_cv = 1 - grid.best_score_\n",
    "min_err_cv\n",
    "#Seems well, noted"
   ]
  },
  {
   "cell_type": "code",
   "execution_count": 86,
   "metadata": {},
   "outputs": [
    {
     "name": "stdout",
     "output_type": "stream",
     "text": [
      "[ 0.82278481  0.84810127  0.85714286  0.83116883  0.59210526  0.75\n",
      "  0.96052632  0.90789474  0.76315789  0.77631579]\n",
      "0.0 0.106299212598\n",
      "[[ 97   0   0   0]\n",
      " [  0 300   0   0]\n",
      " [  0   0  99   0]\n",
      " [  0   0   0  18]]\n",
      "[[ 53   9   0   0]\n",
      " [  2 144   5   0]\n",
      " [  0  11  28   0]\n",
      " [  0   0   0   2]]\n"
     ]
    }
   ],
   "source": [
    "tree_model = tree.DecisionTreeClassifier(max_depth = None)\n",
    "scores = cross_validation.cross_val_score(tree_model, X, y, cv = 10)\n",
    "print (scores)\n",
    "tree_model.fit(X_train, y_train)\n",
    "print (np.mean(y_train != tree_model.predict(X_train)), \\\n",
    "               np.mean(y_test != tree_model.predict(X_test)))\n",
    "print(confusion_matrix(tree_model.predict(X_train), y_train))\n",
    "print(confusion_matrix(tree_model.predict(X_test), y_test))\n",
    "#Wow, such power, many efficiency, so knowledge"
   ]
  },
  {
   "cell_type": "code",
   "execution_count": 87,
   "metadata": {},
   "outputs": [
    {
     "name": "stdout",
     "output_type": "stream",
     "text": [
      "[ 0.67088608  0.6835443   0.62337662  0.81818182  0.89473684  0.82894737\n",
      "  0.85526316  0.82894737  0.67105263  0.72368421]\n",
      "0.198443579767 0.157480314961\n",
      "[[ 76  14   0   0]\n",
      " [ 21 278  41   0]\n",
      " [  0   8  58  18]\n",
      " [  0   0   0   0]]\n",
      "[[ 44  10   0   0]\n",
      " [ 11 146   9   0]\n",
      " [  0   8  24   2]\n",
      " [  0   0   0   0]]\n"
     ]
    }
   ],
   "source": [
    "logistic_model = LogisticRegression(C=1.0)\n",
    "scores = cross_validation.cross_val_score(logistic_model, X, y, cv = 10)\n",
    "print (scores)\n",
    "logistic_model.fit(X_train, y_train)\n",
    "print (np.mean(y_train != logistic_model.predict(X_train)), \\\n",
    "               np.mean(y_test != logistic_model.predict(X_test)))\n",
    "print(confusion_matrix(logistic_model.predict(X_train), y_train))\n",
    "print(confusion_matrix(logistic_model.predict(X_test), y_test))\n",
    "#Thats pretty well"
   ]
  },
  {
   "cell_type": "code",
   "execution_count": null,
   "metadata": {
    "collapsed": true
   },
   "outputs": [],
   "source": []
  },
  {
   "cell_type": "code",
   "execution_count": null,
   "metadata": {
    "collapsed": true
   },
   "outputs": [],
   "source": []
  },
  {
   "cell_type": "code",
   "execution_count": null,
   "metadata": {
    "collapsed": true
   },
   "outputs": [],
   "source": []
  }
 ],
 "metadata": {
  "kernelspec": {
   "display_name": "Python 3",
   "language": "python",
   "name": "python3"
  },
  "language_info": {
   "codemirror_mode": {
    "name": "ipython",
    "version": 3
   },
   "file_extension": ".py",
   "mimetype": "text/x-python",
   "name": "python",
   "nbconvert_exporter": "python",
   "pygments_lexer": "ipython3",
   "version": "3.5.2"
  }
 },
 "nbformat": 4,
 "nbformat_minor": 2
}
